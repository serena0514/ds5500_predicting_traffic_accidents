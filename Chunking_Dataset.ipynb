{
  "nbformat": 4,
  "nbformat_minor": 0,
  "metadata": {
    "colab": {
      "provenance": []
    },
    "kernelspec": {
      "name": "python3",
      "display_name": "Python 3"
    },
    "language_info": {
      "name": "python"
    }
  },
  "cells": [
    {
      "cell_type": "markdown",
      "source": [
        "# Install and import packages"
      ],
      "metadata": {
        "id": "c0vYRvqMznc2"
      }
    },
    {
      "cell_type": "code",
      "execution_count": null,
      "metadata": {
        "colab": {
          "base_uri": "https://localhost:8080/"
        },
        "id": "Ube8T5Hjympe",
        "outputId": "9f07b11f-6271-4e0a-f60c-7cee989ffab7"
      },
      "outputs": [
        {
          "output_type": "stream",
          "name": "stdout",
          "text": [
            "Requirement already satisfied: pandas in /usr/local/lib/python3.10/dist-packages (2.0.3)\n",
            "Requirement already satisfied: openpyxl in /usr/local/lib/python3.10/dist-packages (3.1.5)\n",
            "Requirement already satisfied: python-dateutil>=2.8.2 in /usr/local/lib/python3.10/dist-packages (from pandas) (2.8.2)\n",
            "Requirement already satisfied: pytz>=2020.1 in /usr/local/lib/python3.10/dist-packages (from pandas) (2023.4)\n",
            "Requirement already satisfied: tzdata>=2022.1 in /usr/local/lib/python3.10/dist-packages (from pandas) (2024.1)\n",
            "Requirement already satisfied: numpy>=1.21.0 in /usr/local/lib/python3.10/dist-packages (from pandas) (1.25.2)\n",
            "Requirement already satisfied: et-xmlfile in /usr/local/lib/python3.10/dist-packages (from openpyxl) (1.1.0)\n",
            "Requirement already satisfied: six>=1.5 in /usr/local/lib/python3.10/dist-packages (from python-dateutil>=2.8.2->pandas) (1.16.0)\n"
          ]
        }
      ],
      "source": [
        "!pip install pandas openpyxl"
      ]
    },
    {
      "cell_type": "code",
      "source": [
        "from openpyxl import load_workbook\n",
        "from google.colab import drive\n",
        "import pandas as pd"
      ],
      "metadata": {
        "id": "ZolB0UJPy1pM"
      },
      "execution_count": null,
      "outputs": []
    },
    {
      "cell_type": "markdown",
      "source": [
        "# Mount Drive"
      ],
      "metadata": {
        "id": "e9WQ1ATnzvWd"
      }
    },
    {
      "cell_type": "code",
      "source": [
        "drive.mount('/content/drive', force_remount=True)"
      ],
      "metadata": {
        "colab": {
          "base_uri": "https://localhost:8080/"
        },
        "id": "omBTjAybyy-M",
        "outputId": "90886db7-85d9-4af5-8a55-a1e2c4c02648"
      },
      "execution_count": null,
      "outputs": [
        {
          "output_type": "stream",
          "name": "stdout",
          "text": [
            "Mounted at /content/drive\n"
          ]
        }
      ]
    },
    {
      "cell_type": "markdown",
      "source": [
        "# Import data and extract Boston dataframe"
      ],
      "metadata": {
        "id": "hwn1fmwQzOmo"
      }
    },
    {
      "cell_type": "code",
      "source": [
        "# Set path of original dataset as a variable\n",
        "file_path = '/content/drive/My Drive/US_Accidents_March23.csv'\n",
        "\n",
        "filtered_data = []\n",
        "\n",
        "# Load the data in chunks\n",
        "chunksize = 100000\n",
        "for chunk in pd.read_csv(file_path, chunksize=chunksize):\n",
        "    filtered_chunk = chunk[(chunk['City'] == 'Boston') & (chunk['State'] == 'MA')]\n",
        "    filtered_data.append(filtered_chunk)\n",
        "\n",
        "filtered_df = pd.concat(filtered_data)\n",
        "\n",
        "# Save the filtered subset to Google Drive\n",
        "output_path = '/content/drive/My Drive/Boston_US_Accidents_March23.csv'\n",
        "filtered_df.to_csv(output_path, index=False)"
      ],
      "metadata": {
        "id": "KqBu9GLVy-y9"
      },
      "execution_count": null,
      "outputs": []
    }
  ]
}